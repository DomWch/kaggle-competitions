{
 "cells": [
  {
   "cell_type": "code",
   "execution_count": 1,
   "id": "12ebd368",
   "metadata": {
    "_kg_hide-output": true,
    "execution": {
     "iopub.execute_input": "2023-07-13T14:26:29.434761Z",
     "iopub.status.busy": "2023-07-13T14:26:29.433937Z",
     "iopub.status.idle": "2023-07-13T14:26:45.863128Z",
     "shell.execute_reply": "2023-07-13T14:26:45.862192Z"
    },
    "papermill": {
     "duration": 16.436465,
     "end_time": "2023-07-13T14:26:45.865512",
     "exception": false,
     "start_time": "2023-07-13T14:26:29.429047",
     "status": "completed"
    },
    "tags": []
   },
   "outputs": [],
   "source": [
    "%%capture\n",
    "import contrails_utils"
   ]
  },
  {
   "cell_type": "code",
   "execution_count": 2,
   "id": "9c682edc",
   "metadata": {
    "execution": {
     "iopub.execute_input": "2023-07-13T14:26:45.874087Z",
     "iopub.status.busy": "2023-07-13T14:26:45.873051Z",
     "iopub.status.idle": "2023-07-13T14:26:45.878547Z",
     "shell.execute_reply": "2023-07-13T14:26:45.877720Z"
    },
    "papermill": {
     "duration": 0.011568,
     "end_time": "2023-07-13T14:26:45.880549",
     "exception": false,
     "start_time": "2023-07-13T14:26:45.868981",
     "status": "completed"
    },
    "tags": []
   },
   "outputs": [],
   "source": [
    "import gc\n",
    "import os\n",
    "\n",
    "import numpy as np\n",
    "import pandas as pd\n",
    "\n",
    "import yaml\n",
    "from pathlib import Path"
   ]
  },
  {
   "cell_type": "code",
   "execution_count": 3,
   "id": "a307c06e",
   "metadata": {
    "execution": {
     "iopub.execute_input": "2023-07-13T14:26:45.887737Z",
     "iopub.status.busy": "2023-07-13T14:26:45.887467Z",
     "iopub.status.idle": "2023-07-13T14:26:45.893267Z",
     "shell.execute_reply": "2023-07-13T14:26:45.892454Z"
    },
    "papermill": {
     "duration": 0.01208,
     "end_time": "2023-07-13T14:26:45.895650",
     "exception": false,
     "start_time": "2023-07-13T14:26:45.883570",
     "status": "completed"
    },
    "tags": []
   },
   "outputs": [
    {
     "name": "stdout",
     "output_type": "stream",
     "text": [
      "Interactive False, RERUN False\n"
     ]
    }
   ],
   "source": [
    "### Kaggle environment variable\n",
    "INTERACTIVE = os.getenv(\"KAGGLE_KERNEL_RUN_TYPE\") == \"Interactive\"\n",
    "RERUN = os.getenv(\"KAGGLE_IS_COMPETITION_RERUN\") is not None\n",
    "print(f\"Interactive {INTERACTIVE}, RERUN {RERUN}\")"
   ]
  },
  {
   "cell_type": "code",
   "execution_count": 4,
   "id": "ffead10d",
   "metadata": {
    "execution": {
     "iopub.execute_input": "2023-07-13T14:26:45.903718Z",
     "iopub.status.busy": "2023-07-13T14:26:45.902810Z",
     "iopub.status.idle": "2023-07-13T14:26:45.907143Z",
     "shell.execute_reply": "2023-07-13T14:26:45.906328Z"
    },
    "papermill": {
     "duration": 0.010253,
     "end_time": "2023-07-13T14:26:45.909011",
     "exception": false,
     "start_time": "2023-07-13T14:26:45.898758",
     "status": "completed"
    },
    "tags": []
   },
   "outputs": [],
   "source": [
    "# Path(\"pseudolabel/train\").mkdir(exist_ok=True, parents=True)"
   ]
  },
  {
   "cell_type": "code",
   "execution_count": 5,
   "id": "3b55b6d6",
   "metadata": {
    "execution": {
     "iopub.execute_input": "2023-07-13T14:26:45.916649Z",
     "iopub.status.busy": "2023-07-13T14:26:45.915843Z",
     "iopub.status.idle": "2023-07-13T14:36:15.915801Z",
     "shell.execute_reply": "2023-07-13T14:36:15.914453Z"
    },
    "papermill": {
     "duration": 570.006434,
     "end_time": "2023-07-13T14:36:15.918460",
     "exception": false,
     "start_time": "2023-07-13T14:26:45.912026",
     "status": "completed"
    },
    "tags": []
   },
   "outputs": [],
   "source": [
    "!cp -r /kaggle/input/pseudolabelling/pseudolabel pseudolabel"
   ]
  },
  {
   "cell_type": "code",
   "execution_count": 6,
   "id": "3d2a553c",
   "metadata": {
    "execution": {
     "iopub.execute_input": "2023-07-13T14:36:15.928343Z",
     "iopub.status.busy": "2023-07-13T14:36:15.927375Z",
     "iopub.status.idle": "2023-07-13T14:36:15.948094Z",
     "shell.execute_reply": "2023-07-13T14:36:15.947242Z"
    },
    "papermill": {
     "duration": 0.027239,
     "end_time": "2023-07-13T14:36:15.950027",
     "exception": false,
     "start_time": "2023-07-13T14:36:15.922788",
     "status": "completed"
    },
    "tags": []
   },
   "outputs": [],
   "source": [
    "# MODEL_PATH = \"/kaggle/working/models/\"\n",
    "MODEL_PATH = Path(\"/kaggle/input/training-with-4-folds/models\")\n",
    "with open(MODEL_PATH.parent/ \"config.yaml\", \"r\") as file_obj:\n",
    "    config = yaml.safe_load(file_obj)"
   ]
  },
  {
   "cell_type": "code",
   "execution_count": 7,
   "id": "c9e7bdab",
   "metadata": {
    "execution": {
     "iopub.execute_input": "2023-07-13T14:36:15.957881Z",
     "iopub.status.busy": "2023-07-13T14:36:15.957054Z",
     "iopub.status.idle": "2023-07-13T14:36:15.962200Z",
     "shell.execute_reply": "2023-07-13T14:36:15.961408Z"
    },
    "papermill": {
     "duration": 0.010954,
     "end_time": "2023-07-13T14:36:15.964112",
     "exception": false,
     "start_time": "2023-07-13T14:36:15.953158",
     "status": "completed"
    },
    "tags": []
   },
   "outputs": [],
   "source": [
    "config[\"batch_size\"] = 128\n",
    "config[\"num_workers\"] = 1\n",
    "threshold = 0.35\n",
    "N_TIMES_BEFORE = 4\n",
    "DO_LABELING = \"validation\"\n",
    "data_path = Path('/kaggle/input/google-research-identify-contrails-reduce-global-warming')"
   ]
  },
  {
   "cell_type": "markdown",
   "id": "3de64ac6",
   "metadata": {
    "papermill": {
     "duration": 0.002819,
     "end_time": "2023-07-13T14:36:15.969932",
     "exception": false,
     "start_time": "2023-07-13T14:36:15.967113",
     "status": "completed"
    },
    "tags": []
   },
   "source": [
    "### pseudo labeling on unlabeled sequence (4 before & 3 after the labbeled one)"
   ]
  },
  {
   "cell_type": "code",
   "execution_count": 8,
   "id": "16b3f05d",
   "metadata": {
    "execution": {
     "iopub.execute_input": "2023-07-13T14:36:15.977161Z",
     "iopub.status.busy": "2023-07-13T14:36:15.976674Z",
     "iopub.status.idle": "2023-07-13T14:38:36.806328Z",
     "shell.execute_reply": "2023-07-13T14:38:36.805108Z"
    },
    "papermill": {
     "duration": 140.838442,
     "end_time": "2023-07-13T14:38:36.811321",
     "exception": false,
     "start_time": "2023-07-13T14:36:15.972879",
     "status": "completed"
    },
    "tags": []
   },
   "outputs": [
    {
     "name": "stdout",
     "output_type": "stream",
     "text": [
      "Predict with model: model-f0-val_dice=0.6616.ckpt\n",
      "CPU times: user 23.6 s, sys: 4.09 s, total: 27.7 s\n",
      "Wall time: 2min 20s\n"
     ]
    }
   ],
   "source": [
    "%%time\n",
    "if DO_LABELING and not RERUN:\n",
    "#     paths_model = list(Path(\"/kaggle/input/training-with-4-folds/models\").glob(\"*.ckpt\"))\n",
    "#     paths_model = list(Path(\"/kaggle/input/training-with-4-folds/models\").glob(\"*661*.ckpt\"))\n",
    "    paths_model = [Path(\"/kaggle/input/training-with-4-folds/models/model-f0-val_dice=0.6616.ckpt\")]\n",
    "    save_empty_contrails = False\n",
    "    train_df = pd.DataFrame([{'record_id': int(path_train.name), 'path':path_train} for path_train in (data_path/DO_LABELING).iterdir()])\n",
    "    for seq_num in [1]:\n",
    "        train_df[\"sequence_num\"] = seq_num\n",
    "        preds, models_len = contrails_utils.PyLModel.predict_with_models(train_df,models=paths_model, config=config)\n",
    "        for record_id in train_df.record_id:\n",
    "            predicted_mask_with_threshold = contrails_utils.PyLModel.stack_prediction_mask_threshold(preds, record_id, threshold, models_len)\n",
    "            save_path = Path(f\"pseudolabel/{DO_LABELING}/{record_id}/sequence_{seq_num}\")\n",
    "            if save_empty_contrails or predicted_mask_with_threshold.sum()>0:\n",
    "                save_path.mkdir(exist_ok=True, parents=True)\n",
    "                np.save(save_path/\"label.npy\",predicted_mask_with_threshold)\n",
    "            "
   ]
  }
 ],
 "metadata": {
  "kernelspec": {
   "display_name": "Python 3",
   "language": "python",
   "name": "python3"
  },
  "language_info": {
   "codemirror_mode": {
    "name": "ipython",
    "version": 3
   },
   "file_extension": ".py",
   "mimetype": "text/x-python",
   "name": "python",
   "nbconvert_exporter": "python",
   "pygments_lexer": "ipython3",
   "version": "3.10.10"
  },
  "papermill": {
   "default_parameters": {},
   "duration": 740.985284,
   "end_time": "2023-07-13T14:38:39.867198",
   "environment_variables": {},
   "exception": null,
   "input_path": "__notebook__.ipynb",
   "output_path": "__notebook__.ipynb",
   "parameters": {},
   "start_time": "2023-07-13T14:26:18.881914",
   "version": "2.4.0"
  }
 },
 "nbformat": 4,
 "nbformat_minor": 5
}
