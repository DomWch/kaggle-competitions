{
 "cells": [
  {
   "cell_type": "code",
   "execution_count": 1,
   "id": "99ecfe78",
   "metadata": {
    "_cell_guid": "b1076dfc-b9ad-4769-8c92-a6c4dae69d19",
    "_uuid": "8f2839f25d086af736a60e9eeb907d3b93b6e0e5",
    "execution": {
     "iopub.execute_input": "2023-06-05T16:34:50.361326Z",
     "iopub.status.busy": "2023-06-05T16:34:50.360853Z",
     "iopub.status.idle": "2023-06-05T16:34:50.484782Z",
     "shell.execute_reply": "2023-06-05T16:34:50.483440Z"
    },
    "papermill": {
     "duration": 0.133341,
     "end_time": "2023-06-05T16:34:50.487919",
     "exception": false,
     "start_time": "2023-06-05T16:34:50.354578",
     "status": "completed"
    },
    "tags": []
   },
   "outputs": [],
   "source": [
    "import os\n",
    "import sys\n",
    "from datetime import datetime\n",
    "from pathlib import Path, PosixPath\n",
    "import json\n",
    "from typing import Literal\n",
    "\n",
    "import numpy as np\n",
    "import pandas as pd\n",
    "\n",
    "import matplotlib.pyplot as plt\n",
    "import matplotlib.patches as mpatches\n",
    "\n",
    "import gc\n",
    "from tqdm.notebook import tqdm"
   ]
  },
  {
   "cell_type": "code",
   "execution_count": 2,
   "id": "cefdd971",
   "metadata": {
    "execution": {
     "iopub.execute_input": "2023-06-05T16:34:50.496871Z",
     "iopub.status.busy": "2023-06-05T16:34:50.496305Z",
     "iopub.status.idle": "2023-06-05T16:34:50.508956Z",
     "shell.execute_reply": "2023-06-05T16:34:50.507690Z"
    },
    "papermill": {
     "duration": 0.020994,
     "end_time": "2023-06-05T16:34:50.512454",
     "exception": false,
     "start_time": "2023-06-05T16:34:50.491460",
     "status": "completed"
    },
    "tags": []
   },
   "outputs": [],
   "source": [
    "class CFG:\n",
    "    ### data config\n",
    "    N_TIMES_BEFORE: int = 4\n",
    "    N_TIMES_AFTER: int = 3\n",
    "    band_interval = range(8, 16 + 1)\n",
    "    img_size = [256, 256]\n",
    "    output_channels: int = 1\n",
    "\n",
    "    ### train params\n",
    "    epochs = 10 #15  # 20  # 10\n",
    "    ## 0 = silent, 1 = progress bar, 2 = single line. Progress bar is not useful when logged to a file, so verbose=2 is recommended when not running interactively\n",
    "#     verbose = 1 if INTERACTIVE else 2\n",
    "    thresholds: float = 0.30  # to compute metrics & submit prediction\n",
    "\n",
    "    class model:\n",
    "        name: Literal[\"u_mobilenet_v3\", \"u_mobilenet_v2\"] = \"u_mobilenet_v3\"  # u_mobilenet_v2\n",
    "        full: str = \"u_mobilenet_v3.h5\"  # \"full_unet_model.h5\"\n",
    "        best_weights: str = \"best_weight_u_mobilenet_v3.h5\"  # \"best_weight_cnn_06-02.h5\"\n",
    "        target: str = \"human_pixel_masks.npy\"  # aggregation from human_individual_masks.npy\n",
    "\n",
    "    class paths:\n",
    "        ### outputs from last run (weights, history & config)\n",
    "        last_run = Path(\"/kaggle/input/identify-contrails\")\n",
    "        ### competition input data folder\n",
    "        base_dir: Path = Path(\n",
    "            \"/kaggle/input/google-research-identify-contrails-reduce-global-warming\"\n",
    "        )\n",
    "        ### model & weights folder\n",
    "        model_dir: Path = Path(\"/kaggle/input/cnn-unet-identify-contrails\")\n",
    "        bands_bound: Path = Path(\"/kaggle/input/bands-bounds/bounds_min_max.csv\")\n",
    "\n",
    "    class train:\n",
    "        name_dir: str = \"train\"\n",
    "        batch_size: int = 128\n",
    "        start_stop_range = slice(0, None)  # slice(None)\n",
    "\n",
    "    class validation:\n",
    "        name_dir: str = \"validation\"\n",
    "        batch_size = 32\n",
    "        start_stop_range = slice(0, None)  # None)  # slice(None)\n",
    "\n",
    "    class test:\n",
    "        name_dir: str = \"test\"\n",
    "        batch_size: int = 128\n",
    "\n",
    "    class execute:\n",
    "        compute_bands_bound = False\n",
    "        all_layers_train = False\n",
    "        train = True\n",
    "        evaluate = False\n",
    "        fast_test = False"
   ]
  },
  {
   "cell_type": "code",
   "execution_count": 3,
   "id": "5251c94b",
   "metadata": {
    "execution": {
     "iopub.execute_input": "2023-06-05T16:34:50.521234Z",
     "iopub.status.busy": "2023-06-05T16:34:50.520721Z",
     "iopub.status.idle": "2023-06-05T16:34:50.538972Z",
     "shell.execute_reply": "2023-06-05T16:34:50.537728Z"
    },
    "papermill": {
     "duration": 0.025911,
     "end_time": "2023-06-05T16:34:50.541716",
     "exception": false,
     "start_time": "2023-06-05T16:34:50.515805",
     "status": "completed"
    },
    "tags": []
   },
   "outputs": [],
   "source": [
    "class npfast:\n",
    "    ### from https://www.kaggle.com/competitions/google-research-identify-contrails-reduce-global-warming/discussion/414549\n",
    "    def load(file):\n",
    "        file = open(file, \"rb\")\n",
    "        header = file.read(128)\n",
    "        descr = str(header[19:25], \"utf-8\").replace(\"'\", \"\").replace(\" \", \"\")\n",
    "        shape = tuple(\n",
    "            int(num)\n",
    "            for num in str(header[60:120], \"utf-8\")\n",
    "            .replace(\", }\", \"\")\n",
    "            .replace(\"(\", \"\")\n",
    "            .replace(\")\", \"\")\n",
    "            .split(\",\")\n",
    "        )\n",
    "        datasize = np.lib.format.descr_to_dtype(descr).itemsize\n",
    "        for dimension in shape:\n",
    "            datasize *= dimension\n",
    "        return np.ndarray(shape, dtype=descr, buffer=file.read(datasize))\n",
    "\n",
    "\n",
    "def open_record(record_path: Path):\n",
    "    bands = [\n",
    "        npfast.load(record_path / f\"band_{band_num:02d}.npy\") for band_num in CFG.band_interval\n",
    "    ]\n",
    "    pixel_mask = npfast.load(record_path / CFG.model.target)\n",
    "    return np.array(bands), pixel_mask\n",
    "\n",
    "\n",
    "def false_color(band11, band14, band15):\n",
    "    \"\"\"\n",
    "    convert bands to rgb that labelers saw\n",
    "    \"\"\"\n",
    "\n",
    "    def normalize(band, bounds):\n",
    "        return (band - bounds[0]) / (bounds[1] - bounds[0])\n",
    "\n",
    "    _T11_BOUNDS = (243, 303)\n",
    "    _CLOUD_TOP_TDIFF_BOUNDS = (-4, 5)\n",
    "    _TDIFF_BOUNDS = (-4, 2)\n",
    "\n",
    "    r = normalize(band15 - band14, _TDIFF_BOUNDS)\n",
    "    g = normalize(band14 - band11, _CLOUD_TOP_TDIFF_BOUNDS)\n",
    "    b = normalize(band14, _T11_BOUNDS)\n",
    "\n",
    "    return np.clip(np.stack([r, g, b], axis=2), 0, 1)\n",
    "\n",
    "\n",
    "def open_record_false_color(\n",
    "    record_path: Path, pixel_mask=True, N_TIMES_BEFORE=CFG.N_TIMES_BEFORE, fast=True\n",
    "):\n",
    "    _np = npfast if fast else np\n",
    "    band11 = _np.load(record_path / \"band_11.npy\")[..., N_TIMES_BEFORE]\n",
    "    band14 = _np.load(record_path / \"band_14.npy\")[..., N_TIMES_BEFORE]\n",
    "    band15 = _np.load(record_path / \"band_15.npy\")[..., N_TIMES_BEFORE]\n",
    "    if pixel_mask == True:\n",
    "        pixel_mask = _np.load(record_path / CFG.model.target)\n",
    "    return (\n",
    "        false_color(band11, band14, band15),\n",
    "        pixel_mask,\n",
    "    )"
   ]
  },
  {
   "cell_type": "code",
   "execution_count": 4,
   "id": "a88ed4e2",
   "metadata": {
    "execution": {
     "iopub.execute_input": "2023-06-05T16:34:50.550463Z",
     "iopub.status.busy": "2023-06-05T16:34:50.549926Z",
     "iopub.status.idle": "2023-06-05T16:34:50.555531Z",
     "shell.execute_reply": "2023-06-05T16:34:50.554360Z"
    },
    "papermill": {
     "duration": 0.012958,
     "end_time": "2023-06-05T16:34:50.558013",
     "exception": false,
     "start_time": "2023-06-05T16:34:50.545055",
     "status": "completed"
    },
    "tags": []
   },
   "outputs": [],
   "source": [
    "data_dir = Path(\"/kaggle/input/google-research-identify-contrails-reduce-global-warming/train\")"
   ]
  },
  {
   "cell_type": "code",
   "execution_count": 5,
   "id": "ffd6df03",
   "metadata": {
    "execution": {
     "iopub.execute_input": "2023-06-05T16:34:50.566281Z",
     "iopub.status.busy": "2023-06-05T16:34:50.565809Z",
     "iopub.status.idle": "2023-06-05T17:05:18.356657Z",
     "shell.execute_reply": "2023-06-05T17:05:18.353626Z"
    },
    "papermill": {
     "duration": 1827.801942,
     "end_time": "2023-06-05T17:05:18.363136",
     "exception": false,
     "start_time": "2023-06-05T16:34:50.561194",
     "status": "completed"
    },
    "tags": []
   },
   "outputs": [],
   "source": [
    "for i, record_path in enumerate(data_dir.iterdir()):\n",
    "    image, label = open_record_false_color(record_path)\n",
    "    Path(record_path.name).mkdir(exist_ok=True)\n",
    "    if label.sum()>0:\n",
    "        #save only records with contrails\n",
    "        np.save(f\"{record_path.name}/image.npy\",image)\n",
    "        np.save(f\"{record_path.name}/label.npy\",label)\n",
    "    del image, label\n",
    "    if i % 100==0:\n",
    "        gc.collect()"
   ]
  }
 ],
 "metadata": {
  "kernelspec": {
   "display_name": "Python 3",
   "language": "python",
   "name": "python3"
  },
  "language_info": {
   "codemirror_mode": {
    "name": "ipython",
    "version": 3
   },
   "file_extension": ".py",
   "mimetype": "text/x-python",
   "name": "python",
   "nbconvert_exporter": "python",
   "pygments_lexer": "ipython3",
   "version": "3.10.10"
  },
  "papermill": {
   "default_parameters": {},
   "duration": 1845.422715,
   "end_time": "2023-06-05T17:05:19.805930",
   "environment_variables": {},
   "exception": null,
   "input_path": "__notebook__.ipynb",
   "output_path": "__notebook__.ipynb",
   "parameters": {},
   "start_time": "2023-06-05T16:34:34.383215",
   "version": "2.4.0"
  }
 },
 "nbformat": 4,
 "nbformat_minor": 5
}
