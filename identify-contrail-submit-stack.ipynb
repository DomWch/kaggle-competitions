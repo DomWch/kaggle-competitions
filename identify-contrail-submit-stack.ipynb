{
 "cells": [
  {
   "cell_type": "code",
   "execution_count": 1,
   "id": "50570965",
   "metadata": {
    "execution": {
     "iopub.execute_input": "2023-07-23T17:11:49.331806Z",
     "iopub.status.busy": "2023-07-23T17:11:49.331352Z",
     "iopub.status.idle": "2023-07-23T17:12:06.189774Z",
     "shell.execute_reply": "2023-07-23T17:12:06.188731Z"
    },
    "papermill": {
     "duration": 16.867399,
     "end_time": "2023-07-23T17:12:06.192240",
     "exception": false,
     "start_time": "2023-07-23T17:11:49.324841",
     "status": "completed"
    },
    "tags": []
   },
   "outputs": [],
   "source": [
    "%%capture\n",
    "import contrails_utils as cu"
   ]
  },
  {
   "cell_type": "code",
   "execution_count": 2,
   "id": "46a396d6",
   "metadata": {
    "execution": {
     "iopub.execute_input": "2023-07-23T17:12:06.202345Z",
     "iopub.status.busy": "2023-07-23T17:12:06.201712Z",
     "iopub.status.idle": "2023-07-23T17:12:06.207825Z",
     "shell.execute_reply": "2023-07-23T17:12:06.206958Z"
    },
    "papermill": {
     "duration": 0.013657,
     "end_time": "2023-07-23T17:12:06.210432",
     "exception": false,
     "start_time": "2023-07-23T17:12:06.196775",
     "status": "completed"
    },
    "tags": []
   },
   "outputs": [
    {
     "name": "stdout",
     "output_type": "stream",
     "text": [
      "\u001b[92mcontrails_utils imported\u001b[0m\n"
     ]
    }
   ],
   "source": [
    "print(cu.Commun.colors.GREEN.format(\"contrails_utils imported\"))"
   ]
  },
  {
   "cell_type": "code",
   "execution_count": 3,
   "id": "1376af60",
   "metadata": {
    "execution": {
     "iopub.execute_input": "2023-07-23T17:12:06.219506Z",
     "iopub.status.busy": "2023-07-23T17:12:06.219225Z",
     "iopub.status.idle": "2023-07-23T17:12:06.223864Z",
     "shell.execute_reply": "2023-07-23T17:12:06.222961Z"
    },
    "papermill": {
     "duration": 0.011362,
     "end_time": "2023-07-23T17:12:06.225843",
     "exception": false,
     "start_time": "2023-07-23T17:12:06.214481",
     "status": "completed"
    },
    "tags": []
   },
   "outputs": [],
   "source": [
    "# %%capture\n",
    "import os\n",
    "\n",
    "import numpy as np\n",
    "import pandas as pd\n",
    "\n",
    "import yaml\n",
    "from pathlib import Path\n",
    "\n",
    "import torch"
   ]
  },
  {
   "cell_type": "code",
   "execution_count": 4,
   "id": "a9def080",
   "metadata": {
    "execution": {
     "iopub.execute_input": "2023-07-23T17:12:06.235308Z",
     "iopub.status.busy": "2023-07-23T17:12:06.234500Z",
     "iopub.status.idle": "2023-07-23T17:12:06.240558Z",
     "shell.execute_reply": "2023-07-23T17:12:06.239489Z"
    },
    "papermill": {
     "duration": 0.012743,
     "end_time": "2023-07-23T17:12:06.242526",
     "exception": false,
     "start_time": "2023-07-23T17:12:06.229783",
     "status": "completed"
    },
    "tags": []
   },
   "outputs": [
    {
     "name": "stdout",
     "output_type": "stream",
     "text": [
      "Interactive False, RERUN False\n"
     ]
    }
   ],
   "source": [
    "### Kaggle environment variable\n",
    "INTERACTIVE = os.getenv(\"KAGGLE_KERNEL_RUN_TYPE\") == \"Interactive\"\n",
    "RERUN = os.getenv(\"KAGGLE_IS_COMPETITION_RERUN\") is not None\n",
    "print(f\"Interactive {INTERACTIVE}, RERUN {RERUN}\")"
   ]
  },
  {
   "cell_type": "code",
   "execution_count": 5,
   "id": "6206b18a",
   "metadata": {
    "execution": {
     "iopub.execute_input": "2023-07-23T17:12:06.252344Z",
     "iopub.status.busy": "2023-07-23T17:12:06.251496Z",
     "iopub.status.idle": "2023-07-23T17:12:06.255903Z",
     "shell.execute_reply": "2023-07-23T17:12:06.255055Z"
    },
    "papermill": {
     "duration": 0.011304,
     "end_time": "2023-07-23T17:12:06.257851",
     "exception": false,
     "start_time": "2023-07-23T17:12:06.246547",
     "status": "completed"
    },
    "tags": []
   },
   "outputs": [],
   "source": [
    "# # # # MODEL_PATH = \"/kaggle/working/models/\"\n",
    "# CFG_PATH = Path(\"/kaggle/input/training-with-4-folds\")\n",
    "# # CFG_PATH = Path(\"/kaggle/input/identify-contrails-models/models_kaggle_contrails\")\n",
    "# with open(CFG_PATH/ \"config.yaml\", \"r\") as file_obj:\n",
    "#     config = yaml.safe_load(file_obj)"
   ]
  },
  {
   "cell_type": "code",
   "execution_count": 6,
   "id": "df869b61",
   "metadata": {
    "_kg_hide-input": true,
    "execution": {
     "iopub.execute_input": "2023-07-23T17:12:06.267023Z",
     "iopub.status.busy": "2023-07-23T17:12:06.266770Z",
     "iopub.status.idle": "2023-07-23T17:12:06.270466Z",
     "shell.execute_reply": "2023-07-23T17:12:06.269558Z"
    },
    "papermill": {
     "duration": 0.010578,
     "end_time": "2023-07-23T17:12:06.272432",
     "exception": false,
     "start_time": "2023-07-23T17:12:06.261854",
     "status": "completed"
    },
    "tags": []
   },
   "outputs": [],
   "source": [
    "config = cu.PyLModel.CFG.default_predict_config(image_size=384)\n",
    "# or config = PyLModel.CFG.open_config(CFG_PATH)"
   ]
  },
  {
   "cell_type": "code",
   "execution_count": 7,
   "id": "257279c3",
   "metadata": {
    "execution": {
     "iopub.execute_input": "2023-07-23T17:12:06.282027Z",
     "iopub.status.busy": "2023-07-23T17:12:06.281255Z",
     "iopub.status.idle": "2023-07-23T17:12:06.301001Z",
     "shell.execute_reply": "2023-07-23T17:12:06.300167Z"
    },
    "papermill": {
     "duration": 0.026468,
     "end_time": "2023-07-23T17:12:06.302927",
     "exception": false,
     "start_time": "2023-07-23T17:12:06.276459",
     "status": "completed"
    },
    "tags": []
   },
   "outputs": [],
   "source": [
    "N_TIMES_BEFORE = 4\n",
    "\n",
    "data_path = Path('/kaggle/input/google-research-identify-contrails-reduce-global-warming')\n",
    "data_test = data_path / 'test'\n",
    "submission = pd.read_csv(data_path /'sample_submission.csv', index_col='record_id')"
   ]
  },
  {
   "cell_type": "code",
   "execution_count": 8,
   "id": "2d04f643",
   "metadata": {
    "execution": {
     "iopub.execute_input": "2023-07-23T17:12:06.312772Z",
     "iopub.status.busy": "2023-07-23T17:12:06.312014Z",
     "iopub.status.idle": "2023-07-23T17:12:06.319840Z",
     "shell.execute_reply": "2023-07-23T17:12:06.319004Z"
    },
    "papermill": {
     "duration": 0.014653,
     "end_time": "2023-07-23T17:12:06.321880",
     "exception": false,
     "start_time": "2023-07-23T17:12:06.307227",
     "status": "completed"
    },
    "tags": []
   },
   "outputs": [],
   "source": [
    "test_df = pd.DataFrame([{'record_id': path_test.name, 'path':path_test, \"sequence_num\":N_TIMES_BEFORE} for path_test in data_test.iterdir()])\n",
    "# test_df"
   ]
  },
  {
   "cell_type": "markdown",
   "id": "2d5ef08f",
   "metadata": {
    "papermill": {
     "duration": 0.00382,
     "end_time": "2023-07-23T17:12:06.329665",
     "exception": false,
     "start_time": "2023-07-23T17:12:06.325845",
     "status": "completed"
    },
    "tags": []
   },
   "source": [
    "# Submission "
   ]
  },
  {
   "cell_type": "code",
   "execution_count": 9,
   "id": "3b8734d5",
   "metadata": {
    "_kg_hide-output": true,
    "execution": {
     "iopub.execute_input": "2023-07-23T17:12:06.338781Z",
     "iopub.status.busy": "2023-07-23T17:12:06.338524Z",
     "iopub.status.idle": "2023-07-23T17:12:19.319570Z",
     "shell.execute_reply": "2023-07-23T17:12:19.318348Z"
    },
    "papermill": {
     "duration": 12.988356,
     "end_time": "2023-07-23T17:12:19.321975",
     "exception": false,
     "start_time": "2023-07-23T17:12:06.333619",
     "status": "completed"
    },
    "tags": []
   },
   "outputs": [
    {
     "name": "stdout",
     "output_type": "stream",
     "text": [
      "Predict with model: model-from-scratch-v2-real-train-val_dice=0.6013.ckpt\n",
      "CPU times: user 4.08 s, sys: 1.86 s, total: 5.94 s\n",
      "Wall time: 13 s\n"
     ]
    }
   ],
   "source": [
    "%%time\n",
    "# paths_model:list[Path] = [\n",
    "#     Path(\"/kaggle/input/identify-contrails-models/model-seq0-val_dice0.6326.ckpt\"),\n",
    "#     Path(\"/kaggle/input/pseudolabel-train/models/model-seq1-val_dice=0.6419.ckpt\"),\n",
    "#     Path(\"/kaggle/input/identify-contrails-models/models_kaggle_contrails/pb_model_dice_649.ckpt\"),\n",
    "# ] +list(Path(\"/kaggle/input/training-with-4-folds/models\").glob(\"*.ckpt\"))\n",
    "\n",
    "# paths_model = list(Path(\"/kaggle/input/training-with-4-folds/models\").glob(\"*0.66*.ckpt\")) #[Path(\"/kaggle/input/training-with-4-folds/models/model-f0-val_dice=0.6616.ckpt\")]\n",
    "\n",
    "# paths_model = list(Path(\"/kaggle/input/training-with-4-folds/models\").glob(\"*.ckpt\"))\n",
    "\n",
    "paths_model = list(Path(\"/kaggle/input/pseudolabel-train/models\").glob(\"*.ckpt\"))\n",
    "# threshold = 0.15 \n",
    "high_threshold, low_threshold = (0.355, 0.31)\n",
    "all_preds, models_len = cu.PyLModel.predict_with_models(test_df, models=paths_model, config=config)"
   ]
  },
  {
   "cell_type": "code",
   "execution_count": 10,
   "id": "54d2cbca",
   "metadata": {
    "execution": {
     "iopub.execute_input": "2023-07-23T17:12:19.332729Z",
     "iopub.status.busy": "2023-07-23T17:12:19.331778Z",
     "iopub.status.idle": "2023-07-23T17:12:19.350314Z",
     "shell.execute_reply": "2023-07-23T17:12:19.349421Z"
    },
    "papermill": {
     "duration": 0.025973,
     "end_time": "2023-07-23T17:12:19.352357",
     "exception": false,
     "start_time": "2023-07-23T17:12:19.326384",
     "status": "completed"
    },
    "tags": []
   },
   "outputs": [
    {
     "name": "stdout",
     "output_type": "stream",
     "text": [
      "CPU times: user 6.92 ms, sys: 753 µs, total: 7.67 ms\n",
      "Wall time: 11.5 ms\n"
     ]
    },
    {
     "name": "stderr",
     "output_type": "stream",
     "text": [
      "/kaggle/usr/lib/contrails_utils/contrails_utils.py:115: UserWarning: The use of `x.T` on tensors of dimension other than 2 to reverse their shape is deprecated and it will throw an error in a future release. Consider `x.mT` to transpose batches of matrices or `x.permute(*torch.arange(x.ndim - 1, -1, -1))` to reverse the dimensions of a tensor. (Triggered internally at /usr/local/src/pytorch/aten/src/ATen/native/TensorShape.cpp:3571.)\n",
      "  dots = np.where((x.T.flatten() == fg_val_min))[0]\n"
     ]
    }
   ],
   "source": [
    "%%time\n",
    "for index in submission.index.tolist():\n",
    "    predicted_mask_with_threshold = cu.PyLModel.stack_prediction_mask_threshold(all_preds, index, high_threshold, low_threshold, models_len, vote_majority=0.45)\n",
    "    submission.loc[int(index), 'encoded_pixels'] = cu.Commun.run_length_encode(predicted_mask_with_threshold)"
   ]
  },
  {
   "cell_type": "code",
   "execution_count": 11,
   "id": "4e1182f4",
   "metadata": {
    "execution": {
     "iopub.execute_input": "2023-07-23T17:12:19.362587Z",
     "iopub.status.busy": "2023-07-23T17:12:19.361945Z",
     "iopub.status.idle": "2023-07-23T17:12:19.376832Z",
     "shell.execute_reply": "2023-07-23T17:12:19.375945Z"
    },
    "papermill": {
     "duration": 0.022211,
     "end_time": "2023-07-23T17:12:19.378910",
     "exception": false,
     "start_time": "2023-07-23T17:12:19.356699",
     "status": "completed"
    },
    "tags": []
   },
   "outputs": [
    {
     "data": {
      "text/html": [
       "<div>\n",
       "<style scoped>\n",
       "    .dataframe tbody tr th:only-of-type {\n",
       "        vertical-align: middle;\n",
       "    }\n",
       "\n",
       "    .dataframe tbody tr th {\n",
       "        vertical-align: top;\n",
       "    }\n",
       "\n",
       "    .dataframe thead th {\n",
       "        text-align: right;\n",
       "    }\n",
       "</style>\n",
       "<table border=\"1\" class=\"dataframe\">\n",
       "  <thead>\n",
       "    <tr style=\"text-align: right;\">\n",
       "      <th></th>\n",
       "      <th>encoded_pixels</th>\n",
       "    </tr>\n",
       "    <tr>\n",
       "      <th>record_id</th>\n",
       "      <th></th>\n",
       "    </tr>\n",
       "  </thead>\n",
       "  <tbody>\n",
       "    <tr>\n",
       "      <th>1000834164244036115</th>\n",
       "      <td>27842 1 28098 1 28353 2 28608 3 28864 3 29119 ...</td>\n",
       "    </tr>\n",
       "    <tr>\n",
       "      <th>1002653297254493116</th>\n",
       "      <td>-</td>\n",
       "    </tr>\n",
       "  </tbody>\n",
       "</table>\n",
       "</div>"
      ],
      "text/plain": [
       "                                                        encoded_pixels\n",
       "record_id                                                             \n",
       "1000834164244036115  27842 1 28098 1 28353 2 28608 3 28864 3 29119 ...\n",
       "1002653297254493116                                                  -"
      ]
     },
     "execution_count": 11,
     "metadata": {},
     "output_type": "execute_result"
    }
   ],
   "source": [
    "submission.to_csv('submission.csv')\n",
    "submission"
   ]
  },
  {
   "cell_type": "code",
   "execution_count": 12,
   "id": "b6768e56",
   "metadata": {
    "execution": {
     "iopub.execute_input": "2023-07-23T17:12:19.389440Z",
     "iopub.status.busy": "2023-07-23T17:12:19.389011Z",
     "iopub.status.idle": "2023-07-23T17:12:19.394159Z",
     "shell.execute_reply": "2023-07-23T17:12:19.393321Z"
    },
    "papermill": {
     "duration": 0.012838,
     "end_time": "2023-07-23T17:12:19.396426",
     "exception": false,
     "start_time": "2023-07-23T17:12:19.383588",
     "status": "completed"
    },
    "tags": []
   },
   "outputs": [],
   "source": [
    "# [pred for pred in preds for preds in all_preds[\"f0\"].values()]"
   ]
  }
 ],
 "metadata": {
  "kernelspec": {
   "display_name": "Python 3",
   "language": "python",
   "name": "python3"
  },
  "language_info": {
   "codemirror_mode": {
    "name": "ipython",
    "version": 3
   },
   "file_extension": ".py",
   "mimetype": "text/x-python",
   "name": "python",
   "nbconvert_exporter": "python",
   "pygments_lexer": "ipython3",
   "version": "3.10.12"
  },
  "papermill": {
   "default_parameters": {},
   "duration": 43.754999,
   "end_time": "2023-07-23T17:12:22.676613",
   "environment_variables": {},
   "exception": null,
   "input_path": "__notebook__.ipynb",
   "output_path": "__notebook__.ipynb",
   "parameters": {},
   "start_time": "2023-07-23T17:11:38.921614",
   "version": "2.4.0"
  }
 },
 "nbformat": 4,
 "nbformat_minor": 5
}
